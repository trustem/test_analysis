{
 "cells": [
  {
   "cell_type": "code",
   "execution_count": 2,
   "metadata": {},
   "outputs": [
    {
     "name": "stdout",
     "output_type": "stream",
     "text": [
      "Create id_dictionary took 208.90487504005432 seconds\n",
      "Write to CSV file took 667.0191254615784 seconds\n"
     ]
    }
   ],
   "source": [
    "#In this document we ry to clear the dataset so that only questions that repeat more than 100 times are left.\n",
    "import csv\n",
    "import time\n",
    "import json\n",
    "import pandas as pd\n",
    "\n",
    "\n",
    "#create dictionary key=Question ID, value=count\n",
    "def create_ids_dict(input_file):\n",
    "    with open(input_file, mode='r', encoding=\"utf8\" ) as f:\n",
    "        id_dict={}\n",
    "        reader = csv.DictReader(f, delimiter=',')\n",
    "        for row in reader:\n",
    "            cnt=0\n",
    "            key=str(row[\"ID вопроса\"])\n",
    "            if key in id_dict:\n",
    "                #update count for ID\n",
    "                cnt=int(id_dict[key])+1\n",
    "                id_dict.update({key : cnt})\n",
    "            else:\n",
    "                #insert new ID\n",
    "                id_dict.update([(key,1)] ) \n",
    "    return id_dict\n",
    "\n",
    "def get_fields_nm(input_file):\n",
    "    with open(input_file, \"r\",encoding=\"utf8\") as f:\n",
    "        reader = csv.reader(f)\n",
    "        fields_nm=next(reader)\n",
    "        return fields_nm\n",
    "\n",
    "\n",
    "def write_cleaned_data(input_file,output_file,field_names,filter_nm):\n",
    "    with open(input_file, mode='r',encoding=\"utf8\") as f, open(output_file, 'w',encoding=\"utf8\") as csvfile :\n",
    "        reader=csv.DictReader(f, delimiter=',')\n",
    "        writer=csv.DictWriter(csvfile,delimiter=',', fieldnames=field_names)\n",
    "        writer.writeheader()\n",
    "        for row in reader:\n",
    "            if row[\"ID вопроса\"] in filter_nm:\n",
    "                writer.writerow(row)\n",
    "\n",
    "if __name__ == \"__main__\":        \n",
    "    start_time = time.time()\n",
    "    file_nm='Cleared.csv'\n",
    "    output_file_nm='cleared_filtered_greater_100.csv'\n",
    "    csv_fieldnames=get_fields_nm(file_nm)\n",
    "    id_dictionary=create_ids_dict(file_nm)\n",
    "    print(\"Create id_dictionary took {} seconds\".format( time.time() - start_time   ) )\n",
    "\n",
    "    dict_filetered = {k:v for (k,v) in id_dictionary.items() if v>100}\n",
    "    #save filtered id into file\n",
    "    with open('filtered_ids.json', 'w') as fp:\n",
    "        json.dump(dict_filetered, fp)\n",
    "\n",
    "    write_cleaned_data(file_nm,output_file_nm,csv_fieldnames,dict_filetered)   \n",
    "    print(\"Write to CSV file took {} seconds\".format( time.time() - start_time   ) )"
   ]
  },
  {
   "cell_type": "code",
   "execution_count": null,
   "metadata": {},
   "outputs": [],
   "source": []
  },
  {
   "cell_type": "code",
   "execution_count": null,
   "metadata": {},
   "outputs": [],
   "source": []
  }
 ],
 "metadata": {
  "kernelspec": {
   "display_name": "Python 3",
   "language": "python",
   "name": "python3"
  },
  "language_info": {
   "codemirror_mode": {
    "name": "ipython",
    "version": 3
   },
   "file_extension": ".py",
   "mimetype": "text/x-python",
   "name": "python",
   "nbconvert_exporter": "python",
   "pygments_lexer": "ipython3",
   "version": "3.7.1"
  }
 },
 "nbformat": 4,
 "nbformat_minor": 2
}
